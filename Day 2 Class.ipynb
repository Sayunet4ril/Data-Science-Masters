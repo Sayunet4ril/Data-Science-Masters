{
 "cells": [
  {
   "cell_type": "markdown",
   "id": "03de5ef3-e0bd-46d4-9b2b-8a53d5fef52f",
   "metadata": {},
   "source": [
    "# print statement"
   ]
  },
  {
   "cell_type": "code",
   "execution_count": 10,
   "id": "7ec5f72d-04c7-4fc1-9f6b-7746075f3180",
   "metadata": {},
   "outputs": [
    {
     "name": "stdout",
     "output_type": "stream",
     "text": [
      "hello world\n"
     ]
    }
   ],
   "source": [
    "print(\"hello world\")"
   ]
  },
  {
   "cell_type": "code",
   "execution_count": 15,
   "id": "177ffc86-9b70-4fac-ba3c-a2bc2a3b09ed",
   "metadata": {},
   "outputs": [
    {
     "name": "stdout",
     "output_type": "stream",
     "text": [
      "my age is: 32\n"
     ]
    }
   ],
   "source": [
    "age=32\n",
    "print(\"my age is:\",age)"
   ]
  },
  {
   "cell_type": "code",
   "execution_count": 55,
   "id": "2b33371e-2af6-4da8-bbf3-2374fcf48672",
   "metadata": {},
   "outputs": [
    {
     "name": "stdout",
     "output_type": "stream",
     "text": [
      "Juwe has 2  kids namely Felicity and Feyikemi . They are 3 Respectively\n"
     ]
    }
   ],
   "source": [
    "children=2\n",
    "name=\"Felicity and Feyikemi\"\n",
    "ages=3\n",
    "print(\"Juwe has\", children, \" kids namely\", name, \". They are\", ages, \"Respectively\")\n",
    "\n"
   ]
  },
  {
   "cell_type": "code",
   "execution_count": null,
   "id": "d9e4e0f1-e0c3-4d0f-949a-3bc87075b9bc",
   "metadata": {},
   "outputs": [],
   "source": [
    "\"\"\n",
    "## F string is used for formatting concatenatd cells to be printed. use as below\n",
    "\n",
    "\"\""
   ]
  },
  {
   "cell_type": "code",
   "execution_count": 56,
   "id": "dea1bccc-5de8-4260-917f-fff46689e6eb",
   "metadata": {},
   "outputs": [
    {
     "name": "stdout",
     "output_type": "stream",
     "text": [
      "Juwe has, 2 kids namely Felicity and Feyikemi. They are 3 Respectively\n"
     ]
    }
   ],
   "source": [
    "\n",
    "print(f\"Juwe has, {children} kids namely {name}. They are {ages} Respectively\")\n",
    "\n"
   ]
  },
  {
   "cell_type": "code",
   "execution_count": 54,
   "id": "81120db9-06e5-44b8-8711-3c9bdac4206e",
   "metadata": {},
   "outputs": [
    {
     "name": "stdout",
     "output_type": "stream",
     "text": [
      "Hello everyone i am Moses Juwe and i am 35 from Hull, United Kingdom. it's nice to meet you all\n"
     ]
    }
   ],
   "source": [
    "## formatting: in pythom numbers starts from 0\n",
    "\n",
    "name=\"Moses Juwe\"\n",
    "Age=35\n",
    "country=\"Hull, United Kingdom\"\n",
    "print(f\"Hello everyone i am {name} and i am {Age} from {country}. it's nice to meet you all\")"
   ]
  },
  {
   "cell_type": "code",
   "execution_count": 52,
   "id": "3f18b01e-f870-48e4-b6f5-93c77d01f684",
   "metadata": {},
   "outputs": [
    {
     "name": "stdout",
     "output_type": "stream",
     "text": [
      "Hello everyone i am Moses Juwe and i am 35 from Hull, United Kingdom. it's nice to meet you all\n"
     ]
    }
   ],
   "source": [
    "print(\"Hello everyone i am {} and i am {} from {}. it's nice to meet you all\".format(name,Age,country))"
   ]
  },
  {
   "cell_type": "markdown",
   "id": "83226fd0-b920-48a1-b82b-4dfeac3850e8",
   "metadata": {},
   "source": [
    "# control flow\n",
    "\n",
    "## Decision making statements\n",
    "  * It is used to make decisions during occuring situations\n",
    "  * we can also use it to structure of discussion for decision making\n",
    "### These are several topics in decision making which are:\n",
    "1. IF statements\n",
    "2. IF else\n",
    "3. If elif else\n",
    "4. Nested if\n",
    "5. Single Statement Suites"
   ]
  },
  {
   "cell_type": "code",
   "execution_count": 57,
   "id": "a7e29ca1-1a3d-4a13-a5bf-b3785803d4d2",
   "metadata": {},
   "outputs": [
    {
     "name": "stdout",
     "output_type": "stream",
     "text": [
      "you are eligible to vote because you are above 18\n"
     ]
    }
   ],
   "source": [
    "## if statements with python\n",
    "age=18\n",
    "if age>=18:\n",
    "    print(\"you are eligible to vote because you are above {}\".format(age))"
   ]
  },
  {
   "cell_type": "code",
   "execution_count": 61,
   "id": "6c36b7f5-0a09-438a-864e-b496ca647aed",
   "metadata": {},
   "outputs": [
    {
     "name": "stdout",
     "output_type": "stream",
     "text": [
      "you are not eligible to vote because you are below 17\n"
     ]
    }
   ],
   "source": [
    "## if statements with python\n",
    "age=17\n",
    "if age<18:\n",
    "    print(\"you are not eligible to vote because you are below {}\".format(age))"
   ]
  },
  {
   "cell_type": "code",
   "execution_count": null,
   "id": "45d2547f-0e51-4990-a884-7c2bbb958383",
   "metadata": {},
   "outputs": [],
   "source": [
    "age=int(input(\"Enter Your Age\"))\n",
    "if age>=18 and age<=32:\n",
    "    print(\"You are young blood\")"
   ]
  },
  {
   "cell_type": "code",
   "execution_count": null,
   "id": "79da125c-1b21-47b8-9dcd-e628b069558b",
   "metadata": {},
   "outputs": [],
   "source": [
    "age=int(input(\"Enter Your Age\"))\n",
    "if age>=18 and age<=32:\n",
    "    print(\"You are young blood\")"
   ]
  },
  {
   "cell_type": "code",
   "execution_count": null,
   "id": "35d1b036-38ae-463b-80eb-89aa2b21d8b1",
   "metadata": {},
   "outputs": [],
   "source": []
  }
 ],
 "metadata": {
  "kernelspec": {
   "display_name": "Python 3 (ipykernel)",
   "language": "python",
   "name": "python3"
  },
  "language_info": {
   "codemirror_mode": {
    "name": "ipython",
    "version": 3
   },
   "file_extension": ".py",
   "mimetype": "text/x-python",
   "name": "python",
   "nbconvert_exporter": "python",
   "pygments_lexer": "ipython3",
   "version": "3.10.8"
  }
 },
 "nbformat": 4,
 "nbformat_minor": 5
}
