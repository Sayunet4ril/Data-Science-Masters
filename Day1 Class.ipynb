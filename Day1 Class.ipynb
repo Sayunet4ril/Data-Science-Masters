{
 "cells": [
  {
   "cell_type": "markdown",
   "id": "d7cc7590-b8b5-4ec0-9148-051cc589e734",
   "metadata": {},
   "source": [
    "## PYTHON OBJECT AND BOOLEAN"
   ]
  },
  {
   "cell_type": "markdown",
   "id": "e896cf96-3e84-4c6c-bfc4-53018447a769",
   "metadata": {},
   "source": [
    "## Numbers"
   ]
  },
  {
   "cell_type": "code",
   "execution_count": 35,
   "id": "f2715573-2cec-499f-ab53-fa6ae10e855e",
   "metadata": {},
   "outputs": [
    {
     "data": {
      "text/plain": [
       "4"
      ]
     },
     "execution_count": 35,
     "metadata": {},
     "output_type": "execute_result"
    }
   ],
   "source": [
    "1+3"
   ]
  },
  {
   "cell_type": "code",
   "execution_count": 37,
   "id": "66287859-cb2f-4c13-8b92-be2bb7920f66",
   "metadata": {},
   "outputs": [
    {
     "name": "stdout",
     "output_type": "stream",
     "text": [
      "5\n"
     ]
    }
   ],
   "source": [
    "a=5\n",
    "print(a)"
   ]
  },
  {
   "cell_type": "code",
   "execution_count": 34,
   "id": "c2140be7-9974-4583-b8b6-a4c0fe5a4548",
   "metadata": {},
   "outputs": [
    {
     "name": "stdout",
     "output_type": "stream",
     "text": [
      "4\n"
     ]
    }
   ],
   "source": [
    "print(1+3)"
   ]
  },
  {
   "cell_type": "code",
   "execution_count": 42,
   "id": "da3b3c51-eeef-4ede-b478-3ed3b2cc0f25",
   "metadata": {},
   "outputs": [
    {
     "name": "stdout",
     "output_type": "stream",
     "text": [
      "hello world my name is Moses \n",
      " I love football\n"
     ]
    }
   ],
   "source": [
    "print(\"hello world my name is Moses \\n I love football\")"
   ]
  },
  {
   "cell_type": "code",
   "execution_count": 43,
   "id": "56f4056c-b21d-40a0-bfea-3a6ae61d8803",
   "metadata": {},
   "outputs": [
    {
     "name": "stdout",
     "output_type": "stream",
     "text": [
      "hello world my name is Moses. I love football\n"
     ]
    }
   ],
   "source": [
    "print(\"hello world my name is Moses. I love football\")"
   ]
  },
  {
   "cell_type": "markdown",
   "id": "aca4e9ef-b60d-4cfb-825a-afe73647d6e8",
   "metadata": {},
   "source": [
    "# Variable Assignments"
   ]
  },
  {
   "cell_type": "code",
   "execution_count": 68,
   "id": "3cf37c35-a25a-4e9c-b34b-efc5ec6ae19e",
   "metadata": {},
   "outputs": [
    {
     "name": "stdout",
     "output_type": "stream",
     "text": [
      "audit\n",
      "FIRM\n"
     ]
    }
   ],
   "source": [
    "name='audit'\n",
    "Name='FIRM'\n",
    "print(name)\n",
    "print(Name)"
   ]
  },
  {
   "cell_type": "code",
   "execution_count": 80,
   "id": "f93dc2f2-90c6-42a2-bdda-2bf9bf200827",
   "metadata": {},
   "outputs": [
    {
     "data": {
      "text/plain": [
       "True"
      ]
     },
     "execution_count": 80,
     "metadata": {},
     "output_type": "execute_result"
    }
   ],
   "source": [
    "True"
   ]
  },
  {
   "cell_type": "code",
   "execution_count": 82,
   "id": "452430e7-78e2-4bff-8ea8-b22a401d68fd",
   "metadata": {},
   "outputs": [
    {
     "data": {
      "text/plain": [
       "False"
      ]
     },
     "execution_count": 82,
     "metadata": {},
     "output_type": "execute_result"
    }
   ],
   "source": [
    "False"
   ]
  },
  {
   "cell_type": "code",
   "execution_count": 83,
   "id": "f23fa724-c4ea-4ee7-9954-bcd99588d8f6",
   "metadata": {},
   "outputs": [
    {
     "data": {
      "text/plain": [
       "False"
      ]
     },
     "execution_count": 83,
     "metadata": {},
     "output_type": "execute_result"
    }
   ],
   "source": [
    "True and False"
   ]
  },
  {
   "cell_type": "code",
   "execution_count": 84,
   "id": "d19741b3-918c-4bc1-b2f1-02791b46a87c",
   "metadata": {},
   "outputs": [
    {
     "data": {
      "text/plain": [
       "True"
      ]
     },
     "execution_count": 84,
     "metadata": {},
     "output_type": "execute_result"
    }
   ],
   "source": [
    "True or False"
   ]
  },
  {
   "cell_type": "code",
   "execution_count": 87,
   "id": "0cdfce90-6586-42f3-8c48-4fa91b4f3bdf",
   "metadata": {},
   "outputs": [
    {
     "data": {
      "text/plain": [
       "False"
      ]
     },
     "execution_count": 87,
     "metadata": {},
     "output_type": "execute_result"
    }
   ],
   "source": [
    "not True"
   ]
  },
  {
   "cell_type": "code",
   "execution_count": 88,
   "id": "0f44bfba-decd-4203-a8b0-968c185bad45",
   "metadata": {},
   "outputs": [
    {
     "data": {
      "text/plain": [
       "True"
      ]
     },
     "execution_count": 88,
     "metadata": {},
     "output_type": "execute_result"
    }
   ],
   "source": [
    "not False"
   ]
  },
  {
   "cell_type": "code",
   "execution_count": 99,
   "id": "4b09f08c-9c04-4ec2-9d0d-9efa197bbd60",
   "metadata": {},
   "outputs": [
    {
     "data": {
      "text/plain": [
       "False"
      ]
     },
     "execution_count": 99,
     "metadata": {},
     "output_type": "execute_result"
    }
   ],
   "source": [
    "bool(0)"
   ]
  },
  {
   "cell_type": "code",
   "execution_count": 102,
   "id": "3966d81a-0af7-4815-9ec1-dbde47950128",
   "metadata": {},
   "outputs": [
    {
     "data": {
      "text/plain": [
       "True"
      ]
     },
     "execution_count": 102,
     "metadata": {},
     "output_type": "execute_result"
    }
   ],
   "source": [
    "bool(1)"
   ]
  },
  {
   "cell_type": "code",
   "execution_count": 103,
   "id": "fc5e754d-fcf9-4bd0-b8c4-40fdb4cbe0f5",
   "metadata": {},
   "outputs": [
    {
     "data": {
      "text/plain": [
       "True"
      ]
     },
     "execution_count": 103,
     "metadata": {},
     "output_type": "execute_result"
    }
   ],
   "source": [
    "bool(-1)"
   ]
  },
  {
   "cell_type": "code",
   "execution_count": 122,
   "id": "0b70dcf8-b170-4066-a64e-7b8174734f51",
   "metadata": {},
   "outputs": [],
   "source": [
    "if (bool(0))==True:\n",
    "    print(\"True\")"
   ]
  },
  {
   "cell_type": "code",
   "execution_count": 116,
   "id": "0f4a784f-33c0-40f5-b099-e1f41d5c56ad",
   "metadata": {},
   "outputs": [],
   "source": [
    "str=(14)"
   ]
  },
  {
   "cell_type": "code",
   "execution_count": 119,
   "id": "ed20aa28-a1f2-44f6-abdb-54631916543b",
   "metadata": {},
   "outputs": [
    {
     "data": {
      "text/plain": [
       "True"
      ]
     },
     "execution_count": 119,
     "metadata": {},
     "output_type": "execute_result"
    }
   ],
   "source": [
    "bool(a)=True"
   ]
  },
  {
   "cell_type": "code",
   "execution_count": 119,
   "id": "47213b7d-b56c-4dbe-958c-63f9a75379a4",
   "metadata": {},
   "outputs": [
    {
     "data": {
      "text/plain": [
       "True"
      ]
     },
     "execution_count": 119,
     "metadata": {},
     "output_type": "execute_result"
    }
   ],
   "source": [
    "bool(a)=True"
   ]
  },
  {
   "cell_type": "markdown",
   "id": "290d37d4-2d9c-475e-a1b1-8f5aacc44644",
   "metadata": {
    "tags": []
   },
   "source": [
    "## Dynamic Typing"
   ]
  },
  {
   "cell_type": "code",
   "execution_count": null,
   "id": "7ff9a342-85b7-408d-b4cd-6ff276004453",
   "metadata": {},
   "outputs": [],
   "source": [
    "a=12\n",
    "str=\"Good\"\n",
    "a=\"Moses\""
   ]
  },
  {
   "cell_type": "code",
   "execution_count": 128,
   "id": "f62ef322-5d94-4d30-8f0c-0c6044ec728a",
   "metadata": {},
   "outputs": [
    {
     "data": {
      "text/plain": [
       "1"
      ]
     },
     "execution_count": 128,
     "metadata": {},
     "output_type": "execute_result"
    }
   ],
   "source": [
    "int(1.5)"
   ]
  },
  {
   "cell_type": "code",
   "execution_count": 46,
   "id": "cdf8ef74-6315-4146-a8fb-24ebece39007",
   "metadata": {},
   "outputs": [],
   "source": [
    "Name= 'mike'"
   ]
  },
  {
   "cell_type": "code",
   "execution_count": 49,
   "id": "4ebe981e-495b-4f10-a39f-990a13046226",
   "metadata": {},
   "outputs": [
    {
     "data": {
      "text/plain": [
       "'mIKE'"
      ]
     },
     "execution_count": 49,
     "metadata": {},
     "output_type": "execute_result"
    }
   ],
   "source": [
    "Name"
   ]
  },
  {
   "cell_type": "code",
   "execution_count": 52,
   "id": "29a984a8-1bd0-43b2-93e6-48003f7619e9",
   "metadata": {},
   "outputs": [],
   "source": [
    "decimal_number=2.3"
   ]
  },
  {
   "cell_type": "code",
   "execution_count": 53,
   "id": "90b7aba8-9687-4757-b0f1-64f35a3bde1d",
   "metadata": {},
   "outputs": [
    {
     "data": {
      "text/plain": [
       "2.3"
      ]
     },
     "execution_count": 53,
     "metadata": {},
     "output_type": "execute_result"
    }
   ],
   "source": [
    "decimal_number"
   ]
  },
  {
   "cell_type": "code",
   "execution_count": 160,
   "id": "f329e01b-e0e8-4b36-a2c2-4d20935bd4d0",
   "metadata": {},
   "outputs": [
    {
     "ename": "SyntaxError",
     "evalue": "invalid syntax (3576816581.py, line 6)",
     "output_type": "error",
     "traceback": [
      "\u001b[0;36m  Cell \u001b[0;32mIn[160], line 6\u001b[0;36m\u001b[0m\n\u001b[0;31m    elif product_price>=100 and product_price<=2000:\u001b[0m\n\u001b[0m    ^\u001b[0m\n\u001b[0;31mSyntaxError\u001b[0m\u001b[0;31m:\u001b[0m invalid syntax\n"
     ]
    }
   ],
   "source": [
    "product_price=int(input(\"Enter the product price\"))\n",
    "if product_price>3000:\n",
    "    print(f\"you qualify for a 30% bonus. the new price is {product_price *(1-0.3)}\")\n",
    "elif product_price>=2000 and product_price<=3000:\n",
    "    print(\"you still qualified for a 20% discount. the new price is {}\".format(product_price*0.8)\n",
    "elif product_price>=100 and product_price<=2000:\n",
    "    print(\"you got a little 10% discount. the new price is {}\".format(product_price*0.9)\n",
    "else:\n",
    "    print(\"sorry mate you got no discount\")"
   ]
  },
  {
   "cell_type": "code",
   "execution_count": null,
   "id": "31289b83-4fdf-4f6d-bf93-bc4356f44ded",
   "metadata": {},
   "outputs": [],
   "source": []
  }
 ],
 "metadata": {
  "kernelspec": {
   "display_name": "Python 3 (ipykernel)",
   "language": "python",
   "name": "python3"
  },
  "language_info": {
   "codemirror_mode": {
    "name": "ipython",
    "version": 3
   },
   "file_extension": ".py",
   "mimetype": "text/x-python",
   "name": "python",
   "nbconvert_exporter": "python",
   "pygments_lexer": "ipython3",
   "version": "3.10.8"
  }
 },
 "nbformat": 4,
 "nbformat_minor": 5
}
